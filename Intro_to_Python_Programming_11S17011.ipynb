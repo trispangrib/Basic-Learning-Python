{
 "cells": [
  {
   "cell_type": "code",
   "execution_count": 1,
   "metadata": {},
   "outputs": [
    {
     "name": "stdout",
     "output_type": "stream",
     "text": [
      "3 <class 'int'>\n",
      "2.5 <class 'float'>\n"
     ]
    }
   ],
   "source": [
    "#Praktikum 1\n",
    "#Nama : Triska Paskah Uli Pangaribuan\n",
    "#NIM : 11S17011\n",
    "\n",
    "x = 3\n",
    "print(x, type(x))\n",
    "\n",
    "y = 2.5\n",
    "print(y, type(y))\n"
   ]
  },
  {
   "cell_type": "code",
   "execution_count": 2,
   "metadata": {},
   "outputs": [
    {
     "name": "stdout",
     "output_type": "stream",
     "text": [
      "5.5\n",
      "0.5\n",
      "7.5\n",
      "1.2\n",
      "0.5\n",
      "15.588457268119896\n",
      "1.0\n"
     ]
    }
   ],
   "source": [
    "#Praktikum 1\n",
    "#Nama : Triska Paskah Uli Pangaribuan\n",
    "#NIM : 11S17011\n",
    "\n",
    "print(x+y) #Addition;\n",
    "print(x-y) #Substraction;\n",
    "print(x*y) #Multiplication;\n",
    "print(x/y) #Divition;\n",
    "print(x%y) #Modulus;\n",
    "print(x**y) #Exponentiation;\n",
    "print(x//y) #Floor division;"
   ]
  },
  {
   "cell_type": "code",
   "execution_count": 3,
   "metadata": {},
   "outputs": [
    {
     "name": "stdout",
     "output_type": "stream",
     "text": [
      "5.5\n",
      "13.75\n"
     ]
    }
   ],
   "source": [
    "#Praktikum 1\n",
    "#Nama : Triska Paskah Uli Pangaribuan\n",
    "#NIM : 11S17011\n",
    "\n",
    "x += y\n",
    "print(x) # Prints \"5.5\"\n",
    "\n",
    "x *= y\n",
    "print(x) # Prints \"13.75\"\n"
   ]
  },
  {
   "cell_type": "code",
   "execution_count": 4,
   "metadata": {},
   "outputs": [
    {
     "name": "stdout",
     "output_type": "stream",
     "text": [
      "2.5 3.5 5.0 6.25\n"
     ]
    }
   ],
   "source": [
    "#Praktikum 1\n",
    "#Nama : Triska Paskah Uli Pangaribuan\n",
    "#NIM : 11S17011\n",
    "\n",
    "print(y, y+1, y*2, y**2) # Prints \"2.5 3.5 5.0 6.25\""
   ]
  },
  {
   "cell_type": "code",
   "execution_count": 5,
   "metadata": {},
   "outputs": [
    {
     "name": "stdout",
     "output_type": "stream",
     "text": [
      "<class 'bool'>\n"
     ]
    }
   ],
   "source": [
    "#Praktikum 1\n",
    "#Nama : Triska Paskah Uli Pangaribuan\n",
    "#NIM : 11S17011\n",
    "\n",
    "t, f = True, False\n",
    "print(type(t)) # Prints \"<type 'bool'>\""
   ]
  },
  {
   "cell_type": "code",
   "execution_count": 6,
   "metadata": {},
   "outputs": [
    {
     "name": "stdout",
     "output_type": "stream",
     "text": [
      "False\n",
      "True\n",
      "False\n",
      "True\n"
     ]
    }
   ],
   "source": [
    "#Praktikum 1\n",
    "#Nama : Triska Paskah Uli Pangaribuan\n",
    "#NIM : 11S17011\n",
    "\n",
    "print(t and f) # Logical AND;\n",
    "print(t or f) # Logical OR;\n",
    "print(not t) # Logical NOT;\n",
    "print(t != f) # Logical XOR;"
   ]
  },
  {
   "cell_type": "code",
   "execution_count": 7,
   "metadata": {},
   "outputs": [
    {
     "data": {
      "text/plain": [
       "'sistem informasi'"
      ]
     },
     "execution_count": 7,
     "metadata": {},
     "output_type": "execute_result"
    }
   ],
   "source": [
    "#Praktikum 1\n",
    "#Nama : Triska Paskah Uli Pangaribuan\n",
    "#NIM : 11S17011\n",
    "\n",
    "'sistem informasi'"
   ]
  },
  {
   "cell_type": "code",
   "execution_count": 8,
   "metadata": {},
   "outputs": [
    {
     "data": {
      "text/plain": [
       "\"12 September '19\""
      ]
     },
     "execution_count": 8,
     "metadata": {},
     "output_type": "execute_result"
    }
   ],
   "source": [
    "#Praktikum 1\n",
    "#Nama : Triska Paskah Uli Pangaribuan\n",
    "#NIM : 11S17011\n",
    "\n",
    "'12 September \\'19'"
   ]
  },
  {
   "cell_type": "code",
   "execution_count": 9,
   "metadata": {},
   "outputs": [
    {
     "data": {
      "text/plain": [
       "'sistem informasi'"
      ]
     },
     "execution_count": 9,
     "metadata": {},
     "output_type": "execute_result"
    }
   ],
   "source": [
    "#Praktikum 1\n",
    "#Nama : Triska Paskah Uli Pangaribuan\n",
    "#NIM : 11S17011\n",
    "\n",
    "\"sistem informasi\""
   ]
  },
  {
   "cell_type": "code",
   "execution_count": 10,
   "metadata": {},
   "outputs": [
    {
     "data": {
      "text/plain": [
       "'\"Ya,\" kata beliau.'"
      ]
     },
     "execution_count": 10,
     "metadata": {},
     "output_type": "execute_result"
    }
   ],
   "source": [
    "#Praktikum 1\n",
    "#Nama : Triska Paskah Uli Pangaribuan\n",
    "#NIM : 11S17011\n",
    "\n",
    "'\"Ya,\" kata beliau.'"
   ]
  },
  {
   "cell_type": "code",
   "execution_count": 11,
   "metadata": {},
   "outputs": [
    {
     "name": "stdout",
     "output_type": "stream",
     "text": [
      "What is your name?Triska Pangaribuan\n"
     ]
    },
    {
     "data": {
      "text/plain": [
       "'Triska Pangaribuan'"
      ]
     },
     "execution_count": 11,
     "metadata": {},
     "output_type": "execute_result"
    }
   ],
   "source": [
    "#Praktikum 1\n",
    "#Nama : Triska Paskah Uli Pangaribuan\n",
    "#NIM : 11S17011\n",
    "\n",
    "person = input(\"What is your name?\")\n",
    "person"
   ]
  },
  {
   "cell_type": "code",
   "execution_count": 13,
   "metadata": {},
   "outputs": [
    {
     "name": "stdout",
     "output_type": "stream",
     "text": [
      "hello 5\n"
     ]
    }
   ],
   "source": [
    "#Praktikum 1\n",
    "#Nama : Triska Paskah Uli Pangaribuan\n",
    "#NIM : 11S17011\n",
    "\n",
    "hello = 'hello' # String literals can use single quotes\n",
    "world = \"world\" # or double quotes; it does not matter.\n",
    "print(hello, len(hello))"
   ]
  },
  {
   "cell_type": "code",
   "execution_count": 14,
   "metadata": {},
   "outputs": [
    {
     "name": "stdout",
     "output_type": "stream",
     "text": [
      "hello world\n"
     ]
    }
   ],
   "source": [
    "#Praktikum 1\n",
    "#Nama : Triska Paskah Uli Pangaribuan\n",
    "#NIM : 11S17011\n",
    "\n",
    "hw = hello + ' ' + world #Sring concatenation\n",
    "print(hw) # prints \"hello world\""
   ]
  },
  {
   "cell_type": "code",
   "execution_count": 15,
   "metadata": {},
   "outputs": [
    {
     "name": "stdout",
     "output_type": "stream",
     "text": [
      "Which country do you live in?Indonesia\n",
      "I live in Indonesia\n"
     ]
    }
   ],
   "source": [
    "#Praktikum 1\n",
    "#Nama : Triska Paskah Uli Pangaribuan\n",
    "#NIM : 11S17011\n",
    "\n",
    "country = input(\"Which country do you live in?\")\n",
    "print(\"I live in {0}\".format(country))"
   ]
  },
  {
   "cell_type": "code",
   "execution_count": 16,
   "metadata": {},
   "outputs": [
    {
     "name": "stdout",
     "output_type": "stream",
     "text": [
      "Usage : thingy [OPTIONS]\n",
      "    -h Display this usage message\n",
      "    -H Hostname to connect to\n",
      "\n"
     ]
    }
   ],
   "source": [
    "#Praktikum 1\n",
    "#Nama : Triska Paskah Uli Pangaribuan\n",
    "#NIM : 11S17011\n",
    "\n",
    "print(\"\"\"\\\n",
    "Usage : thingy [OPTIONS]\n",
    "    -h Display this usage message\n",
    "    -H Hostname to connect to\n",
    "\"\"\")"
   ]
  },
  {
   "cell_type": "code",
   "execution_count": 18,
   "metadata": {},
   "outputs": [
    {
     "name": "stdout",
     "output_type": "stream",
     "text": [
      "Hello\n",
      "HELLO\n",
      "  hello\n",
      " hello \n",
      "hello\n",
      "world\n",
      "h\n",
      "hell\n",
      "hello world\n",
      "['hello', 'world']\n"
     ]
    }
   ],
   "source": [
    "#Praktikum 1\n",
    "#Nama : Triska Paskah Uli Pangaribuan\n",
    "#NIM : 11S17011\n",
    "\n",
    "s = \"hello\"\n",
    "#Capitalize a string to uppercase, prints \"Hello\"\n",
    "print(s.capitalize())\n",
    "\n",
    "#Convert a string to uppercase; prints \"HELLO\"\n",
    "print(s.upper())\n",
    "\n",
    "#Right-justify a string, padding with spaces; prints \"hello\"\n",
    "print(s.rjust(7))\n",
    "\n",
    "#Center a string, padding woth spaces;prints \"hello\"\n",
    "print(s.center(7))\n",
    "\n",
    "#Replace all intances of one substring tih another;\n",
    "#print \"he(ell)(ell)o\"\n",
    "print(s.replace('1', '(ell)'))\n",
    "\n",
    "#Strip leading and trailing whitespace; prints \"world\"\n",
    "print('world'.strip())\n",
    "\n",
    "#Index a string\n",
    "print(s[0])\n",
    "\n",
    "#Slice a string\n",
    "print(s[:4])\n",
    "\n",
    "#Join the words of a list to make a single string\n",
    "print(' '.join(['hello','world']))\n",
    "\n",
    "#Split a string into a list\n",
    "print('hello world'.split())"
   ]
  },
  {
   "cell_type": "code",
   "execution_count": 19,
   "metadata": {},
   "outputs": [
    {
     "name": "stdout",
     "output_type": "stream",
     "text": [
      "None\n"
     ]
    }
   ],
   "source": [
    "#Praktikum 1\n",
    "#Nama : Triska Paskah Uli Pangaribuan\n",
    "#NIM : 11S17011\n",
    "\n",
    "money = None\n",
    "print(money)"
   ]
  },
  {
   "cell_type": "code",
   "execution_count": 20,
   "metadata": {},
   "outputs": [
    {
     "name": "stdout",
     "output_type": "stream",
     "text": [
      "[3, 1, 2] 2\n",
      "2\n"
     ]
    }
   ],
   "source": [
    "#Praktikum 1\n",
    "#Nama : Triska Paskah Uli Pangaribuan\n",
    "#NIM : 11S17011\n",
    "\n",
    "xs = [3,1,2] #Create a list\n",
    "print(xs, xs[2])\n",
    "print(xs[-1]) # Negative indices dount from the end of the list;\n",
    "                #prints \"2\""
   ]
  },
  {
   "cell_type": "code",
   "execution_count": 21,
   "metadata": {},
   "outputs": [
    {
     "name": "stdout",
     "output_type": "stream",
     "text": [
      "[3, 1, 'foo']\n"
     ]
    }
   ],
   "source": [
    "#Praktikum 1\n",
    "#Nama : Triska Paskah Uli Pangaribuan\n",
    "#NIM : 11S17011\n",
    "\n",
    "xs [2] ='foo' # Lists can contain elements of different types\n",
    "print(xs)"
   ]
  },
  {
   "cell_type": "code",
   "execution_count": 22,
   "metadata": {},
   "outputs": [
    {
     "name": "stdout",
     "output_type": "stream",
     "text": [
      "[3, 1, 'foo', 'bar']\n"
     ]
    }
   ],
   "source": [
    "#Praktikum 1\n",
    "#Nama : Triska Paskah Uli Pangaribuan\n",
    "#NIM : 11S17011\n",
    "\n",
    "xs.append('bar') # Add a new elements to the end of the list\n",
    "print(xs)"
   ]
  },
  {
   "cell_type": "code",
   "execution_count": 23,
   "metadata": {},
   "outputs": [
    {
     "name": "stdout",
     "output_type": "stream",
     "text": [
      "bar [3, 1, 'foo']\n"
     ]
    }
   ],
   "source": [
    "#Praktikum 1\n",
    "#Nama : Triska Paskah Uli Pangaribuan\n",
    "#NIM : 11S17011\n",
    "\n",
    "x = xs.pop() #Remove and return the element of the list\n",
    "print(x, xs)\n"
   ]
  },
  {
   "cell_type": "code",
   "execution_count": 24,
   "metadata": {},
   "outputs": [
    {
     "name": "stdout",
     "output_type": "stream",
     "text": [
      "[0, 1, 2, 3, 4]\n",
      "[2, 3]\n",
      "[2, 3, 4]\n",
      "[0, 1]\n",
      "[0, 1, 2, 3, 4]\n",
      "[0, 1, 2, 3]\n",
      "[0, 1, 8, 9, 4]\n"
     ]
    }
   ],
   "source": [
    "#Praktikum 1\n",
    "#Nama : Triska Paskah Uli Pangaribuan\n",
    "#NIM : 11S17011\n",
    "\n",
    "nums = list(range(5)) # range is a built-in function that creates a \n",
    "                        # list of integers\n",
    "print(nums) # Prints\"[1,2,3,4]\"\n",
    "print(nums[2:4]) #Get a slice from index 2 to 4(exclusive);\n",
    "                    #prints\"[2, 3]\"\n",
    "print(nums[2:]) # Get a slice from index 2 to the end;\n",
    "                    #prints\"[2,3,4]\"\n",
    "print(nums[:2]) # Get a slice from the start to index 2 (exclusive);\n",
    "                    #prints\"[0,1]\"\n",
    "print(nums[:]) #Get a slice of the whole list;\n",
    "                    #prints[\"0,1,2,3,4\"]\n",
    "print(nums[:-1]) #Slice indices can be negative;\n",
    "                    #prints[\"0,1,2,3\"]\n",
    "nums[2:4] = [8,9] #Assign a new sublist to a slice\n",
    "print(nums) #Prints \"[0,1,8,8,4]\""
   ]
  },
  {
   "cell_type": "code",
   "execution_count": 25,
   "metadata": {},
   "outputs": [
    {
     "name": "stdout",
     "output_type": "stream",
     "text": [
      "cat\n",
      "dog\n",
      "monkey\n"
     ]
    }
   ],
   "source": [
    "#Praktikum 1\n",
    "#Nama : Triska Paskah Uli Pangaribuan\n",
    "#NIM : 11S17011\n",
    "\n",
    "animals = ['cat','dog','monkey']\n",
    "for animal in animals:\n",
    "    print(animal)"
   ]
  },
  {
   "cell_type": "code",
   "execution_count": 26,
   "metadata": {},
   "outputs": [
    {
     "name": "stdout",
     "output_type": "stream",
     "text": [
      "#1: cat\n",
      "#2: dog\n",
      "#3: monkey\n"
     ]
    }
   ],
   "source": [
    "#Praktikum 1\n",
    "#Nama : Triska Paskah Uli Pangaribuan\n",
    "#NIM : 11S17011\n",
    "\n",
    "animals = ['cat', 'dog', 'monkey']\n",
    "for idx, animal in enumerate (animals):\n",
    "    print('#%d: %s' % (idx + 1, animal))"
   ]
  },
  {
   "cell_type": "code",
   "execution_count": 27,
   "metadata": {},
   "outputs": [
    {
     "name": "stdout",
     "output_type": "stream",
     "text": [
      "[0, 1, 4, 9, 16]\n"
     ]
    }
   ],
   "source": [
    "#Praktikum 1\n",
    "#Nama : Triska Paskah Uli Pangaribuan\n",
    "#NIM : 11S17011\n",
    "\n",
    "nums = [0,1,2,3,4]\n",
    "squares = []\n",
    "for x in nums:\n",
    "    squares.append(x**2)\n",
    "print(squares)"
   ]
  },
  {
   "cell_type": "code",
   "execution_count": 29,
   "metadata": {},
   "outputs": [
    {
     "name": "stdout",
     "output_type": "stream",
     "text": [
      "[0, 1, 4, 9, 16]\n"
     ]
    }
   ],
   "source": [
    "#Praktikum 1\n",
    "#Nama : Triska Paskah Uli Pangaribuan\n",
    "#NIM : 11S17011\n",
    "\n",
    "nums = [0,1,2,3,4]\n",
    "squares = [x ** 2 for x in nums]\n",
    "print(squares)"
   ]
  },
  {
   "cell_type": "code",
   "execution_count": 30,
   "metadata": {},
   "outputs": [
    {
     "name": "stdout",
     "output_type": "stream",
     "text": [
      "[0, 4, 16]\n"
     ]
    }
   ],
   "source": [
    "#Praktikum 1\n",
    "#Nama : Triska Paskah Uli Pangaribuan\n",
    "#NIM : 11S17011\n",
    "\n",
    "nums = [0,1,2,3,4]\n",
    "even_squares = [x**2 for x in nums if x%2 == 0]\n",
    "print(even_squares)"
   ]
  },
  {
   "cell_type": "code",
   "execution_count": 31,
   "metadata": {},
   "outputs": [
    {
     "name": "stdout",
     "output_type": "stream",
     "text": [
      "cute\n",
      "True\n"
     ]
    }
   ],
   "source": [
    "#Praktikum 1\n",
    "#Nama : Triska Paskah Uli Pangaribuan\n",
    "#NIM : 11S17011\n",
    "\n",
    "d = {'cat': 'cute', 'dog': 'furry'} #Create a new dictionary\n",
    "                                    #with some data\n",
    "print(d['cat']) #Get an entry from a dictionary; prints \"cute\"\n",
    "print('cat' in d) #Check if a dictionary has given key;\n",
    "                #prints \"True\""
   ]
  },
  {
   "cell_type": "code",
   "execution_count": 32,
   "metadata": {},
   "outputs": [
    {
     "name": "stdout",
     "output_type": "stream",
     "text": [
      "wet\n"
     ]
    },
    {
     "data": {
      "text/plain": [
       "{'cat': 'cute', 'dog': 'furry', 'fish': 'wet'}"
      ]
     },
     "execution_count": 32,
     "metadata": {},
     "output_type": "execute_result"
    }
   ],
   "source": [
    "#Praktikum 1\n",
    "#Nama : Triska Paskah Uli Pangaribuan\n",
    "#NIM : 11S17011\n",
    "\n",
    "d['fish'] = 'wet' #Set an entry in a dictionary\n",
    "print(d['fish']) #Prints \"wet\"\n",
    "d"
   ]
  },
  {
   "cell_type": "code",
   "execution_count": 33,
   "metadata": {},
   "outputs": [
    {
     "ename": "KeyError",
     "evalue": "'monkey'",
     "output_type": "error",
     "traceback": [
      "\u001b[1;31m---------------------------------------------------------------------------\u001b[0m",
      "\u001b[1;31mKeyError\u001b[0m                                  Traceback (most recent call last)",
      "\u001b[1;32m<ipython-input-33-0ef264ca7d16>\u001b[0m in \u001b[0;36m<module>\u001b[1;34m\u001b[0m\n\u001b[0;32m      3\u001b[0m \u001b[1;31m#NIM : 11S17011\u001b[0m\u001b[1;33m\u001b[0m\u001b[1;33m\u001b[0m\u001b[1;33m\u001b[0m\u001b[0m\n\u001b[0;32m      4\u001b[0m \u001b[1;33m\u001b[0m\u001b[0m\n\u001b[1;32m----> 5\u001b[1;33m \u001b[0mprint\u001b[0m\u001b[1;33m(\u001b[0m\u001b[0md\u001b[0m\u001b[1;33m[\u001b[0m\u001b[1;34m'monkey'\u001b[0m\u001b[1;33m]\u001b[0m\u001b[1;33m)\u001b[0m \u001b[1;31m# KeyError : 'monkey' not a key of d\u001b[0m\u001b[1;33m\u001b[0m\u001b[1;33m\u001b[0m\u001b[0m\n\u001b[0m",
      "\u001b[1;31mKeyError\u001b[0m: 'monkey'"
     ]
    }
   ],
   "source": [
    "#Praktikum 1\n",
    "#Nama : Triska Paskah Uli Pangaribuan\n",
    "#NIM : 11S17011\n",
    "\n",
    "print(d['monkey']) # KeyError : 'monkey' not a key of d"
   ]
  },
  {
   "cell_type": "code",
   "execution_count": 35,
   "metadata": {},
   "outputs": [
    {
     "name": "stdout",
     "output_type": "stream",
     "text": [
      "N/A\n",
      "wet\n"
     ]
    }
   ],
   "source": [
    "#Praktikum 1\n",
    "#Nama : Triska Paskah Uli Pangaribuan\n",
    "#NIM : 11S17011\n",
    "\n",
    "print(d.get('monkey', 'N/A')) #Get an elements with a default\n",
    "                                #prints \"wet\"\n",
    "print(d.get('fish', 'N//A')) #Get an element woth default;\n",
    "                               # prints(\"wet\")"
   ]
  },
  {
   "cell_type": "code",
   "execution_count": 36,
   "metadata": {},
   "outputs": [
    {
     "name": "stdout",
     "output_type": "stream",
     "text": [
      "N/A\n"
     ]
    }
   ],
   "source": [
    "#Praktikum 1\n",
    "#Nama : Triska Paskah Uli Pangaribuan\n",
    "#NIM : 11S17011\n",
    "\n",
    "del d['fish'] # Remove an element from a dictionary\n",
    "print(d.get('fish', 'N/A')) # \"fish is no longer a key; prints\"N/A\""
   ]
  },
  {
   "cell_type": "code",
   "execution_count": 38,
   "metadata": {},
   "outputs": [
    {
     "name": "stdout",
     "output_type": "stream",
     "text": [
      "A person has 2 legs\n",
      "A cat has 4 legs\n",
      "A spider has 8 legs\n"
     ]
    }
   ],
   "source": [
    "#Praktikum 1\n",
    "#Nama : Triska Paskah Uli Pangaribuan\n",
    "#NIM : 11S17011\n",
    "\n",
    "d = {'person': 2, 'cat': 4, 'spider':8}\n",
    "for animal in d:\n",
    "    legs= d[animal]\n",
    "    print('A {} has {} legs'.format(animal, legs))"
   ]
  },
  {
   "cell_type": "code",
   "execution_count": 39,
   "metadata": {},
   "outputs": [
    {
     "name": "stdout",
     "output_type": "stream",
     "text": [
      "a person has 2 legs\n",
      "a cat has 4 legs\n",
      "a spider has 8 legs\n"
     ]
    }
   ],
   "source": [
    "#Praktikum 1\n",
    "#Nama : Triska Paskah Uli Pangaribuan\n",
    "#NIM : 11S17011\n",
    "\n",
    "d = {'person':2, 'cat':4, 'spider':8}\n",
    "for animal, legs in d.items():\n",
    "    print('a {} has {} legs'.format(animal, legs))"
   ]
  },
  {
   "cell_type": "code",
   "execution_count": 40,
   "metadata": {},
   "outputs": [
    {
     "name": "stdout",
     "output_type": "stream",
     "text": [
      "{0: 0, 2: 4, 4: 16}\n"
     ]
    }
   ],
   "source": [
    "#Praktikum 1\n",
    "#Nama : Triska Paskah Uli Pangaribuan\n",
    "#NIM : 11S17011\n",
    "\n",
    "nums = [0,1,2,3,4]\n",
    "even_num_to_square = {x: x**2 for x in nums if x % 2 == 0}\n",
    "print(even_num_to_square)"
   ]
  },
  {
   "cell_type": "code",
   "execution_count": 42,
   "metadata": {},
   "outputs": [
    {
     "name": "stdout",
     "output_type": "stream",
     "text": [
      "True\n",
      "False\n"
     ]
    }
   ],
   "source": [
    "#Praktikum 1\n",
    "#Nama : Triska Paskah Uli Pangaribuan\n",
    "#NIM : 11S17011\n",
    "\n",
    "animals = {'cat', 'dog'}\n",
    "print('cat' in animals) # Check if an element is in a set;\n",
    "                        #prints \"True\"\n",
    "print('fish' in animals) #prints \"False\""
   ]
  },
  {
   "cell_type": "code",
   "execution_count": 43,
   "metadata": {},
   "outputs": [
    {
     "name": "stdout",
     "output_type": "stream",
     "text": [
      "True\n",
      "3\n"
     ]
    }
   ],
   "source": [
    "#Praktikum 1\n",
    "#Nama : Triska Paskah Uli Pangaribuan\n",
    "#NIM : 11S17011\n",
    "\n",
    "animals.add('fish') #Add an element to a set\n",
    "print('fish' in animals)\n",
    "print(len(animals)) #Number of elements in a set;"
   ]
  },
  {
   "cell_type": "code",
   "execution_count": 44,
   "metadata": {},
   "outputs": [
    {
     "name": "stdout",
     "output_type": "stream",
     "text": [
      "3\n",
      "2\n"
     ]
    }
   ],
   "source": [
    "#Praktikum 1\n",
    "#Nama : Triska Paskah Uli Pangaribuan\n",
    "#NIM : 11S17011\n",
    "\n",
    "animals.add('cat') #Adding an element that is already in the set does nothing\n",
    "print(len(animals))\n",
    "animals.remove('cat') #Remove an element from a set\n",
    "print(len(animals))"
   ]
  },
  {
   "cell_type": "code",
   "execution_count": 45,
   "metadata": {},
   "outputs": [
    {
     "name": "stdout",
     "output_type": "stream",
     "text": [
      "1: fish\n",
      "2: cat\n",
      "3: dog\n"
     ]
    }
   ],
   "source": [
    "#Praktikum 1\n",
    "#Nama : Triska Paskah Uli Pangaribuan\n",
    "#NIM : 11S17011\n",
    "\n",
    "animals ={'cat', 'dog', 'fish'}\n",
    "for idx, animal in enumerate(animals):\n",
    "    print('{}: {}'.format(idx + 1, animal))\n",
    "#Prints \"#1: fish\", #2: dog\", \"#3: cat\""
   ]
  },
  {
   "cell_type": "code",
   "execution_count": 46,
   "metadata": {},
   "outputs": [
    {
     "name": "stdout",
     "output_type": "stream",
     "text": [
      "{0, 1, 2, 3, 4, 5}\n"
     ]
    }
   ],
   "source": [
    "#Praktikum 1\n",
    "#Nama : Triska Paskah Uli Pangaribuan\n",
    "#NIM : 11S17011\n",
    "\n",
    "from math import sqrt\n",
    "print({int(sqrt(x)) for x in range (30)})"
   ]
  },
  {
   "cell_type": "code",
   "execution_count": 50,
   "metadata": {},
   "outputs": [
    {
     "name": "stdout",
     "output_type": "stream",
     "text": [
      "<class 'tuple'>\n",
      "5\n",
      "1\n"
     ]
    }
   ],
   "source": [
    "#Praktikum 1\n",
    "#Nama : Triska Paskah Uli Pangaribuan\n",
    "#NIM : 11S17011\n",
    "\n",
    "d = {(x, x+1): x for x in range(10)} #Create a dictionary\n",
    "                                    # with tuple keys\n",
    "t = (5,6) # Create a tuple\n",
    "print(type (t))\n",
    "print(d[t])\n",
    "print(d[(1,2)])"
   ]
  },
  {
   "cell_type": "code",
   "execution_count": 48,
   "metadata": {},
   "outputs": [
    {
     "ename": "TypeError",
     "evalue": "'tuple' object does not support item assignment",
     "output_type": "error",
     "traceback": [
      "\u001b[1;31m---------------------------------------------------------------------------\u001b[0m",
      "\u001b[1;31mTypeError\u001b[0m                                 Traceback (most recent call last)",
      "\u001b[1;32m<ipython-input-48-c8aeb8cd20ae>\u001b[0m in \u001b[0;36m<module>\u001b[1;34m\u001b[0m\n\u001b[1;32m----> 1\u001b[1;33m \u001b[0mt\u001b[0m\u001b[1;33m[\u001b[0m\u001b[1;36m0\u001b[0m\u001b[1;33m]\u001b[0m \u001b[1;33m=\u001b[0m \u001b[1;36m1\u001b[0m\u001b[1;33m\u001b[0m\u001b[1;33m\u001b[0m\u001b[0m\n\u001b[0m",
      "\u001b[1;31mTypeError\u001b[0m: 'tuple' object does not support item assignment"
     ]
    }
   ],
   "source": [
    "t[0] = 1"
   ]
  },
  {
   "cell_type": "code",
   "execution_count": 51,
   "metadata": {},
   "outputs": [
    {
     "name": "stdout",
     "output_type": "stream",
     "text": [
      "20 is greater than 10\n"
     ]
    }
   ],
   "source": [
    "#Praktikum 1\n",
    "#Nama : Triska Paskah Uli Pangaribuan\n",
    "#NIM : 11S17011\n",
    "\n",
    "if 20 > 10:\n",
    "    print(f\"20 is greater than 10\")\n",
    "    "
   ]
  },
  {
   "cell_type": "code",
   "execution_count": 52,
   "metadata": {},
   "outputs": [
    {
     "name": "stdout",
     "output_type": "stream",
     "text": [
      "Enter a number44\n",
      "The number entered by the user is a positive number\n"
     ]
    }
   ],
   "source": [
    "#Reads a Number and Prints a Message if it is positive\n",
    "number = int (input(\"Enter a number\"))\n",
    "if number >= 0:\n",
    "    print(f\"The number entered by the user is a positive number\")"
   ]
  },
  {
   "cell_type": "code",
   "execution_count": 53,
   "metadata": {},
   "outputs": [
    {
     "name": "stdout",
     "output_type": "stream",
     "text": [
      "Enter a number99\n",
      "99 is Odd number\n"
     ]
    }
   ],
   "source": [
    "#Praktikum 1\n",
    "#Nama : Triska Paskah Uli Pangaribuan\n",
    "#NIM : 11S17011\n",
    "\n",
    "#Find if a given number is odd or even\n",
    "number = int(input(\"Enter a number\"))\n",
    "if number % 2 == 0:\n",
    "    print(f\"{number} is Even number\")\n",
    "else:\n",
    "    print(f\"{number} is Odd number\")"
   ]
  },
  {
   "cell_type": "code",
   "execution_count": 54,
   "metadata": {},
   "outputs": [
    {
     "name": "stdout",
     "output_type": "stream",
     "text": [
      "Enter your score0.8\n",
      "Your Grade is \"B\" \n"
     ]
    }
   ],
   "source": [
    "#Praktikum 1\n",
    "#Nama : Triska Paskah Uli Pangaribuan\n",
    "#NIM : 11S17011\n",
    "\n",
    "#Prompt for a Score between 0.0 and 1.0\n",
    "#If the score is out of range, print an error.\n",
    "#If the score is between 0.0 and 1.0, print a grade.\n",
    "score = float (input(\"Enter your score\"))\n",
    "if score < 0 or score > 1:\n",
    "    print('Wrong Input')\n",
    "elif score >= 0.9:\n",
    "    print('Your Grade is \"A\" ')\n",
    "elif score >= 0.8:\n",
    "    print('Your Grade is \"B\" ')\n",
    "elif score >= 0.7:\n",
    "    print('Your Grade is \"C\" ')\n",
    "elif score >= 0.6:\n",
    "    print('Your Grade is \"D\" ')\n",
    "elif score >= 0.5:\n",
    "    print('Your Grade is \"F\" ')"
   ]
  },
  {
   "cell_type": "code",
   "execution_count": 56,
   "metadata": {},
   "outputs": [
    {
     "name": "stdout",
     "output_type": "stream",
     "text": [
      "Enter a year 2019\n",
      "2019 is not a Leap Year\n"
     ]
    }
   ],
   "source": [
    "#Praktikum 1\n",
    "#Nama : Triska Paskah Uli Pangaribuan\n",
    "#NIM : 11S17011\n",
    "\n",
    "#Check if a given year is a leap year\n",
    "year = int(input('Enter a year'))\n",
    "if year % 4 == 0:\n",
    "    if year % 100 == 0:\n",
    "        if year % 400 == 0:\n",
    "            print(f'{year} is a Leap Year')\n",
    "        else:\n",
    "            print(f'{year} is not a Leap Year')\n",
    "    else:\n",
    "        print(f'{year} is a Leap Year')\n",
    "else:\n",
    "    print(f'{year} is not a Leap Year')"
   ]
  },
  {
   "cell_type": "code",
   "execution_count": 57,
   "metadata": {},
   "outputs": [
    {
     "name": "stdout",
     "output_type": "stream",
     "text": [
      "Current value of i is 0\n",
      "Current value of i is 1\n",
      "Current value of i is 2\n",
      "Current value of i is 3\n",
      "Current value of i is 4\n",
      "Current value of i is 5\n",
      "Current value of i is 6\n",
      "Current value of i is 7\n",
      "Current value of i is 8\n",
      "Current value of i is 9\n",
      "Enter a number up to which you want to find \\ the average78\n",
      "The average of 78 natural number is 1.0\n"
     ]
    }
   ],
   "source": [
    "#Praktikum 1\n",
    "#Nama : Triska Paskah Uli Pangaribuan\n",
    "#NIM : 11S17011\n",
    "\n",
    "#Display first 10 numbers using while loop starting from 0\n",
    "i = 0\n",
    "while i < 10:\n",
    "    print(f\"Current value of i is {i}\")\n",
    "    i = i + 1\n",
    "# Find the Average of n natural numbers\n",
    "# where n is the input from the user\n",
    "number = int (input(\"Enter a number up to which you want to find \\ the average\"))\n",
    "i = 0\n",
    "sum = 0\n",
    "count = 0\n",
    "while i<number:\n",
    "    i = i + 1\n",
    "    sum = sum + 1\n",
    "    count = count + 1\n",
    "average = sum/count\n",
    "print(f\"The average of {number} natural number is {average}\")\n",
    "    "
   ]
  },
  {
   "cell_type": "code",
   "execution_count": 58,
   "metadata": {},
   "outputs": [
    {
     "name": "stdout",
     "output_type": "stream",
     "text": [
      "0\n",
      "1\n",
      "2\n",
      "Both ''start'' and ''stop'' argument values specified in \\ range function\n",
      "2\n",
      "3\n",
      "4\n",
      "All three argument ''start'', ''stop'' and ''step'' \\ specified in range function\n",
      "1\n",
      "4\n"
     ]
    }
   ],
   "source": [
    "#Praktikum 1\n",
    "#Nama : Triska Paskah Uli Pangaribuan\n",
    "#NIM : 11S17011\n",
    "\n",
    "# Demonstrate for Loop using range () function\n",
    "for i in range(3):\n",
    "    print(f\"{i}\")\n",
    "print(\"Both ''start'' and ''stop'' argument values specified in \\ range function\")\n",
    "for i in range (2,5):\n",
    "    print(f\"{i}\")\n",
    "print(\"All three argument ''start'', ''stop'' and ''step'' \\ specified in range function\")\n",
    "for i in range (1,6,3):\n",
    "    print(f\"{i}\")"
   ]
  },
  {
   "cell_type": "code",
   "execution_count": 59,
   "metadata": {},
   "outputs": [
    {
     "name": "stdout",
     "output_type": "stream",
     "text": [
      "The latest value of n is 0\n",
      "The latest value of n is 1\n",
      "The latest value of n is 2\n",
      "The latest value of n is 3\n",
      "The latest value of n is 4\n",
      "The latest value of n is 5\n",
      "The value of n is greater than 5\n"
     ]
    }
   ],
   "source": [
    "#Praktikum 1\n",
    "#Nama : Triska Paskah Uli Pangaribuan\n",
    "#NIM : 11S17011\n",
    "\n",
    "# Demonstrate infinite while loop and break\n",
    "n = 0\n",
    "while True:\n",
    "    print(f\"The latest value of n is {n}\")\n",
    "    n = n+1\n",
    "    if n>5:\n",
    "        print(f\"The value of n is greater than 5\")\n",
    "        break\n",
    "        \n"
   ]
  },
  {
   "cell_type": "code",
   "execution_count": 60,
   "metadata": {},
   "outputs": [
    {
     "name": "stdout",
     "output_type": "stream",
     "text": [
      "Please enter a number: 100\n",
      "The number you have entered is 100\n"
     ]
    }
   ],
   "source": [
    "#Praktikum 1\n",
    "#Nama : Triska Paskah Uli Pangaribuan\n",
    "#NIM : 11S17011\n",
    "\n",
    "#Check for ValueError Expection\n",
    "while True:\n",
    "    try:\n",
    "        number = int (input(\"Please enter a number: \"))\n",
    "        print(f\"The number you have entered is {number}\")\n",
    "        break\n",
    "    except ValueError:\n",
    "        print(\"Oops! That was no valid number. Try again... \")"
   ]
  },
  {
   "cell_type": "code",
   "execution_count": 62,
   "metadata": {},
   "outputs": [
    {
     "name": "stdout",
     "output_type": "stream",
     "text": [
      "negative\n",
      "zero\n",
      "positive\n"
     ]
    }
   ],
   "source": [
    "#Praktikum 1\n",
    "#Nama : Triska Paskah Uli Pangaribuan\n",
    "#NIM : 11S17011\n",
    "\n",
    "def sign(x):\n",
    "    if x>0:\n",
    "        return 'positive'\n",
    "    elif x<0:\n",
    "        return 'negative'\n",
    "    else:\n",
    "        return 'zero'\n",
    "for x in [-1, 0, 1]:\n",
    "    print(sign(x))"
   ]
  },
  {
   "cell_type": "code",
   "execution_count": 64,
   "metadata": {},
   "outputs": [
    {
     "name": "stdout",
     "output_type": "stream",
     "text": [
      "Hello, Bob!\n",
      "HELLO, FRED\n"
     ]
    }
   ],
   "source": [
    "#Praktikum 1\n",
    "#Nama : Triska Paskah Uli Pangaribuan\n",
    "#NIM : 11S17011\n",
    "\n",
    "def hello(name, loud=False):\n",
    "    if loud:\n",
    "        print('HELLO, %s' % name.upper())\n",
    "    else:\n",
    "        print('Hello, %s!' % name)\n",
    "hello('Bob')\n",
    "hello('Fred', loud=True)"
   ]
  },
  {
   "cell_type": "code",
   "execution_count": 66,
   "metadata": {},
   "outputs": [
    {
     "name": "stdout",
     "output_type": "stream",
     "text": [
      "Hello, Fred\n",
      "HELLO, FRED\n"
     ]
    }
   ],
   "source": [
    "#Praktikum 1\n",
    "#Nama : Triska Paskah Uli Pangaribuan\n",
    "#NIM : 11S17011\n",
    "\n",
    "class Greeter:\n",
    "    #Constructor\n",
    "    def __init__(self, name):\n",
    "        self.name = name # Create an instance variabble\n",
    "        \n",
    "    #Instance method\n",
    "    def greet(self, loud=False):\n",
    "        if loud:\n",
    "            print('HELLO, %s' % self.name.upper())\n",
    "        else:\n",
    "            print('Hello, %s' % self.name)\n",
    "    def test():\n",
    "        print('Class level')\n",
    "        \n",
    "g = Greeter ('Fred') # Construct an instance of the Greeter class\n",
    "g.greet() #Call an instance method; prints \"Hello, Fred\"\n",
    "g.greet(loud=True) # Call an instance method; prints \"HELLO, FRED!\"\n"
   ]
  },
  {
   "cell_type": "code",
   "execution_count": 67,
   "metadata": {},
   "outputs": [],
   "source": [
    "#Praktikum 1\n",
    "#Nama : Triska Paskah Uli Pangaribuan\n",
    "#NIM : 11S17011\n",
    "\n",
    "import numpy as np"
   ]
  },
  {
   "cell_type": "code",
   "execution_count": 68,
   "metadata": {},
   "outputs": [
    {
     "name": "stdout",
     "output_type": "stream",
     "text": [
      "<class 'numpy.ndarray'> (3,) 1 2 3\n",
      "[5 2 3]\n"
     ]
    }
   ],
   "source": [
    "#Praktikum 1\n",
    "#Nama : Triska Paskah Uli Pangaribuan\n",
    "#NIM : 11S17011\n",
    "\n",
    "a = np.array([1,2,3]) # Create a rank 1 array\n",
    "print(type(a), a.shape, a[0], a[1], a[2])\n",
    "a[0] = 5 #Change an element of the array\n",
    "print(a)"
   ]
  },
  {
   "cell_type": "code",
   "execution_count": 69,
   "metadata": {},
   "outputs": [
    {
     "name": "stdout",
     "output_type": "stream",
     "text": [
      "[[1 2 3]\n",
      " [4 5 6]]\n"
     ]
    },
    {
     "data": {
      "text/plain": [
       "(2, 3)"
      ]
     },
     "execution_count": 69,
     "metadata": {},
     "output_type": "execute_result"
    }
   ],
   "source": [
    "#Praktikum 1\n",
    "#Nama : Triska Paskah Uli Pangaribuan\n",
    "#NIM : 11S17011\n",
    "\n",
    "b = np.array([[1,2,3],[4,5,6]]) #Create a rank 2 aray \n",
    "print (b)\n",
    "b.shape\n"
   ]
  },
  {
   "cell_type": "code",
   "execution_count": 70,
   "metadata": {},
   "outputs": [
    {
     "name": "stdout",
     "output_type": "stream",
     "text": [
      "[[0. 0.]\n",
      " [0. 0.]]\n"
     ]
    }
   ],
   "source": [
    "#Praktikum 1\n",
    "#Nama : Triska Paskah Uli Pangaribuan\n",
    "#NIM : 11S17011\n",
    "\n",
    "a = np.zeros((2,2)) # Create an array of all xeros\n",
    "print(a)"
   ]
  },
  {
   "cell_type": "code",
   "execution_count": 71,
   "metadata": {},
   "outputs": [
    {
     "name": "stdout",
     "output_type": "stream",
     "text": [
      "[[1. 1.]]\n"
     ]
    }
   ],
   "source": [
    "#Praktikum 1\n",
    "#Nama : Triska Paskah Uli Pangaribuan\n",
    "#NIM : 11S17011\n",
    "\n",
    "b = np.ones((1,2)) #Create an array of all ones\n",
    "print(b)"
   ]
  },
  {
   "cell_type": "code",
   "execution_count": 72,
   "metadata": {},
   "outputs": [
    {
     "name": "stdout",
     "output_type": "stream",
     "text": [
      "[[7 7]\n",
      " [7 7]]\n"
     ]
    }
   ],
   "source": [
    "#Praktikum 1\n",
    "#Nama : Triska Paskah Uli Pangaribuan\n",
    "#NIM : 11S17011\n",
    "\n",
    "c = np.full((2,2),7) #Create a constant array\n",
    "print(c)"
   ]
  },
  {
   "cell_type": "code",
   "execution_count": 73,
   "metadata": {},
   "outputs": [
    {
     "name": "stdout",
     "output_type": "stream",
     "text": [
      "[[1. 0.]\n",
      " [0. 1.]]\n"
     ]
    }
   ],
   "source": [
    "#Praktikum 1\n",
    "#Nama : Triska Paskah Uli Pangaribuan\n",
    "#NIM : 11S17011\n",
    "\n",
    "d = np.eye(2) #Creat a 2 x 2 identity matrix\n",
    "print(d)"
   ]
  },
  {
   "cell_type": "code",
   "execution_count": 74,
   "metadata": {},
   "outputs": [
    {
     "name": "stdout",
     "output_type": "stream",
     "text": [
      "[[0.36656923 0.06567983]\n",
      " [0.63521833 0.37613156]]\n"
     ]
    }
   ],
   "source": [
    "#Praktikum 1\n",
    "#Nama : Triska Paskah Uli Pangaribuan\n",
    "#NIM : 11S17011\n",
    "\n",
    "e = np.random.random((2,2)) #Create an array filled with random values\n",
    "print(e)"
   ]
  },
  {
   "cell_type": "code",
   "execution_count": 75,
   "metadata": {},
   "outputs": [
    {
     "name": "stdout",
     "output_type": "stream",
     "text": [
      "[[2 3]\n",
      " [6 7]]\n"
     ]
    },
    {
     "data": {
      "text/plain": [
       "(2, 2)"
      ]
     },
     "execution_count": 75,
     "metadata": {},
     "output_type": "execute_result"
    }
   ],
   "source": [
    "#Praktikum 1\n",
    "#Nama : Triska Paskah Uli Pangaribuan\n",
    "#NIM : 11S17011\n",
    "\n",
    "import numpy as np\n",
    "\n",
    "#Creat the following rank 2 array with shape (3,4)\n",
    "#[[1 2 3 4]\n",
    "# [5 6 7 8]\n",
    "# [9 10 11 12]]\n",
    "a = np.array ([[1,2,3,4], [5,6,7,8],[9,10,11,12]])\n",
    "\n",
    "#Use slicing to pull out the subarray consisting of the first 2 rows\n",
    "#and columns 1 and 2; b is the following array of shape (2,2):\n",
    "#[[2 3]\n",
    "#[6 7]]\n",
    "b = a[:2, 1:3]\n",
    "print(b)\n",
    "b.shape"
   ]
  },
  {
   "cell_type": "code",
   "execution_count": 76,
   "metadata": {},
   "outputs": [
    {
     "name": "stdout",
     "output_type": "stream",
     "text": [
      "2\n",
      "77\n"
     ]
    }
   ],
   "source": [
    "#Praktikum 1\n",
    "#Nama : Triska Paskah Uli Pangaribuan\n",
    "#NIM : 11S17011\n",
    "\n",
    "print(a[0,1])\n",
    "b[0,0] = 77 # b[0,0] is the same piece of data as a[0,1]\n",
    "print(a[0,1])"
   ]
  },
  {
   "cell_type": "code",
   "execution_count": 77,
   "metadata": {},
   "outputs": [
    {
     "name": "stdout",
     "output_type": "stream",
     "text": [
      "[[ 1  2  3  4]\n",
      " [ 5  6  7  8]\n",
      " [ 9 10 11 12]]\n"
     ]
    }
   ],
   "source": [
    "#Praktikum 1\n",
    "#Nama : Triska Paskah Uli Pangaribuan\n",
    "#NIM : 11S17011\n",
    "\n",
    "#Create the following rank 2 array with shape (3,4)\n",
    "a = np.array ([[1,2,3,4], [5,6,7,8], [9,10,11,12]])\n",
    "print(a)"
   ]
  },
  {
   "cell_type": "code",
   "execution_count": 78,
   "metadata": {},
   "outputs": [
    {
     "name": "stdout",
     "output_type": "stream",
     "text": [
      "[5 6 7 8] (4,)\n",
      "[[5 6 7 8]] (1, 4)\n",
      "[[5 6 7 8]] (1, 4)\n"
     ]
    }
   ],
   "source": [
    "#Praktikum 1\n",
    "#Nama : Triska Paskah Uli Pangaribuan\n",
    "#NIM : 11S17011\n",
    "\n",
    "row_r1 = a[1, :] #Rank 1 view of the second row of a\n",
    "row_r2 = a[1:2, :] #Rank 2 view of the second row of a\n",
    "row_r3 = a[[1], :] #Rank 2 view of the second row of a\n",
    "print(row_r1, row_r1.shape)\n",
    "print(row_r2, row_r2.shape)\n",
    "print(row_r3, row_r3.shape)\n",
    "\n"
   ]
  },
  {
   "cell_type": "code",
   "execution_count": 79,
   "metadata": {},
   "outputs": [
    {
     "name": "stdout",
     "output_type": "stream",
     "text": [
      "[ 2  6 10] (3,)\n",
      "\n",
      "[[ 2]\n",
      " [ 6]\n",
      " [10]] (3, 1)\n"
     ]
    }
   ],
   "source": [
    "#Praktikum 1\n",
    "#Nama : Triska Paskah Uli Pangaribuan\n",
    "#NIM : 11S17011\n",
    "\n",
    "#We can make the same distinction when accesing columns of an array:\n",
    "col_r1 = a[:, 1]\n",
    "col_r2 = a[:, 1:2]\n",
    "print(col_r1, col_r1.shape)\n",
    "print()\n",
    "print(col_r2, col_r2.shape)"
   ]
  },
  {
   "cell_type": "code",
   "execution_count": 80,
   "metadata": {},
   "outputs": [
    {
     "name": "stdout",
     "output_type": "stream",
     "text": [
      "[1 4 5]\n",
      "[1 4 5]\n"
     ]
    }
   ],
   "source": [
    "#Praktikum 1\n",
    "#Nama : Triska Paskah Uli Pangaribuan\n",
    "#NIM : 11S17011\n",
    "\n",
    "a = np.array ([[1,2],[3,4],[5,6]])\n",
    "\n",
    "#An example of integer array indexing.\n",
    "#The returned array will have shape (3,) and \n",
    "print(a[[0,1,2],[0,1,0]])\n",
    "\n",
    "#The above example of integer array indexing is equivalent to this:\n",
    "print(np.array ([a[0,0], a[1,1], a[2,0]]))"
   ]
  },
  {
   "cell_type": "code",
   "execution_count": 82,
   "metadata": {},
   "outputs": [
    {
     "name": "stdout",
     "output_type": "stream",
     "text": [
      "[2 2]\n",
      "[2 2]\n"
     ]
    }
   ],
   "source": [
    "#Praktikum 1\n",
    "#Nama : Triska Paskah Uli Pangaribuan\n",
    "#NIM : 11S17011\n",
    "\n",
    "#When using integer array indexing, you can reuse the same\n",
    "# element from the source array:\n",
    "print(a[[0,0], [1,1]])\n",
    "\n",
    "#Equivalent to the previous integer array indexing example\n",
    "print(np.array([a[0,1], a[0,1]]))\n",
    "      "
   ]
  },
  {
   "cell_type": "code",
   "execution_count": 83,
   "metadata": {},
   "outputs": [
    {
     "name": "stdout",
     "output_type": "stream",
     "text": [
      "[[ 1  2  3]\n",
      " [ 4  5  6]\n",
      " [ 7  8  9]\n",
      " [10 11 12]]\n"
     ]
    }
   ],
   "source": [
    "#Praktikum 1\n",
    "#Nama : Triska Paskah Uli Pangaribuan\n",
    "#NIM : 11S17011\n",
    "\n",
    "#Create a new array from which we will select elements\n",
    "a = np.array([[1,2,3],[4,5,6],[7,8,9],[10,11,12]])\n",
    "print(a)"
   ]
  },
  {
   "cell_type": "code",
   "execution_count": 85,
   "metadata": {},
   "outputs": [
    {
     "name": "stdout",
     "output_type": "stream",
     "text": [
      "[ 1  6  7 11]\n"
     ]
    }
   ],
   "source": [
    "#Praktikum 1\n",
    "#Nama : Triska Paskah Uli Pangaribuan\n",
    "#NIM : 11S17011\n",
    "\n",
    "#Create an array of indices\n",
    "b = np.array([0,2,0,1])\n",
    "\n",
    "#Select one element from each row of a using the indices in b\n",
    "print(a[np.arange(4),b]) #Prints \"[1 6 7 11]\""
   ]
  },
  {
   "cell_type": "code",
   "execution_count": 86,
   "metadata": {},
   "outputs": [
    {
     "name": "stdout",
     "output_type": "stream",
     "text": [
      "[[11  2  3]\n",
      " [ 4  5 16]\n",
      " [17  8  9]\n",
      " [10 21 12]]\n"
     ]
    }
   ],
   "source": [
    "#Praktikum 1\n",
    "#Nama : Triska Paskah Uli Pangaribuan\n",
    "#NIM : 11S17011\n",
    "\n",
    "#Mutate one element from each row of using the indices in b\n",
    "a[np.arange(4),b] += 10\n",
    "print(a)"
   ]
  },
  {
   "cell_type": "code",
   "execution_count": 87,
   "metadata": {},
   "outputs": [
    {
     "name": "stdout",
     "output_type": "stream",
     "text": [
      "Help on built-in function arange in module numpy:\n",
      "\n",
      "arange(...)\n",
      "    arange([start,] stop[, step,], dtype=None)\n",
      "    \n",
      "    Return evenly spaced values within a given interval.\n",
      "    \n",
      "    Values are generated within the half-open interval ``[start, stop)``\n",
      "    (in other words, the interval including `start` but excluding `stop`).\n",
      "    For integer arguments the function is equivalent to the Python built-in\n",
      "    `range` function, but returns an ndarray rather than a list.\n",
      "    \n",
      "    When using a non-integer step, such as 0.1, the results will often not\n",
      "    be consistent.  It is better to use `numpy.linspace` for these cases.\n",
      "    \n",
      "    Parameters\n",
      "    ----------\n",
      "    start : number, optional\n",
      "        Start of interval.  The interval includes this value.  The default\n",
      "        start value is 0.\n",
      "    stop : number\n",
      "        End of interval.  The interval does not include this value, except\n",
      "        in some cases where `step` is not an integer and floating point\n",
      "        round-off affects the length of `out`.\n",
      "    step : number, optional\n",
      "        Spacing between values.  For any output `out`, this is the distance\n",
      "        between two adjacent values, ``out[i+1] - out[i]``.  The default\n",
      "        step size is 1.  If `step` is specified as a position argument,\n",
      "        `start` must also be given.\n",
      "    dtype : dtype\n",
      "        The type of the output array.  If `dtype` is not given, infer the data\n",
      "        type from the other input arguments.\n",
      "    \n",
      "    Returns\n",
      "    -------\n",
      "    arange : ndarray\n",
      "        Array of evenly spaced values.\n",
      "    \n",
      "        For floating point arguments, the length of the result is\n",
      "        ``ceil((stop - start)/step)``.  Because of floating point overflow,\n",
      "        this rule may result in the last element of `out` being greater\n",
      "        than `stop`.\n",
      "    \n",
      "    See Also\n",
      "    --------\n",
      "    linspace : Evenly spaced numbers with careful handling of endpoints.\n",
      "    ogrid: Arrays of evenly spaced numbers in N-dimensions.\n",
      "    mgrid: Grid-shaped arrays of evenly spaced numbers in N-dimensions.\n",
      "    \n",
      "    Examples\n",
      "    --------\n",
      "    >>> np.arange(3)\n",
      "    array([0, 1, 2])\n",
      "    >>> np.arange(3.0)\n",
      "    array([ 0.,  1.,  2.])\n",
      "    >>> np.arange(3,7)\n",
      "    array([3, 4, 5, 6])\n",
      "    >>> np.arange(3,7,2)\n",
      "    array([3, 5])\n",
      "\n"
     ]
    }
   ],
   "source": [
    "#Praktikum 1\n",
    "#Nama : Triska Paskah Uli Pangaribuan\n",
    "#NIM : 11S17011\n",
    "\n",
    "import numpy as np\n",
    "\n",
    "a = np.array([[1,2], [3,4], [5,6]])\n",
    "bool_idx = (a>2) #Find the elements of a that are bigger than 2;\n",
    "                #this return a numpy array of Booleans of the same\n",
    "                #shape as a, whre each slot of bool_idx tells\n",
    "                # whether that element of a is > 2.\n",
    "#print(bool_idx)\n",
    "help(np.arange)"
   ]
  },
  {
   "cell_type": "code",
   "execution_count": 88,
   "metadata": {},
   "outputs": [
    {
     "name": "stdout",
     "output_type": "stream",
     "text": [
      "[3 4 5 6]\n",
      "[3 4 5 6]\n"
     ]
    }
   ],
   "source": [
    "#Praktikum 1\n",
    "#Nama : Triska Paskah Uli Pangaribuan\n",
    "#NIM : 11S17011\n",
    "\n",
    "#We use boolean array indexing to construct a rank 1 array\n",
    "# consisting of the elements of a corresponding to the True values\n",
    "# of bool_idx\n",
    "print(a[bool_idx])\n",
    "\n",
    "#We can do all of the above in a single concise statement:\n",
    "print(a[a>2])"
   ]
  },
  {
   "cell_type": "code",
   "execution_count": 90,
   "metadata": {},
   "outputs": [],
   "source": [
    "#Praktikum 1\n",
    "#Nama : Triska Paskah Uli Pangaribuan\n",
    "#NIM : 11S17011\n",
    "\n",
    "import matplotlib.pyplot as plt"
   ]
  },
  {
   "cell_type": "code",
   "execution_count": 91,
   "metadata": {},
   "outputs": [],
   "source": [
    "#Praktikum 1\n",
    "#Nama : Triska Paskah Uli Pangaribuan\n",
    "#NIM : 11S17011\n",
    "\n",
    "%matplotlib inline"
   ]
  },
  {
   "cell_type": "code",
   "execution_count": 92,
   "metadata": {},
   "outputs": [
    {
     "data": {
      "image/png": "[encoded data removed]",
      "text/plain": [
       "<Figure size 432x288 with 1 Axes>"
      ]
     },
     "metadata": {
      "needs_background": "light"
     },
     "output_type": "display_data"
    },
    {
     "data": {
      "text/plain": [
       "<Figure size 432x288 with 0 Axes>"
      ]
     },
     "metadata": {},
     "output_type": "display_data"
    }
   ],
   "source": [
    "#Praktikum 1\n",
    "#Nama : Triska Paskah Uli Pangaribuan\n",
    "#NIM : 11S17011\n",
    "\n",
    "#Compute the x and y coordinates for points on a sine curve\n",
    "x = np.arange(0, 3 * np.pi, 0.1)\n",
    "y = np.sin(x)\n",
    "\n",
    "#Plot the points using matplotlib\n",
    "plt.plot(x,y)\n",
    "plt.show() #when not using jupyter\n",
    "plt.savefig('filename')"
   ]
  },
  {
   "cell_type": "code",
   "execution_count": 94,
   "metadata": {},
   "outputs": [
    {
     "data": {
      "text/plain": [
       "<matplotlib.legend.Legend at 0x19340099f98>"
      ]
     },
     "execution_count": 94,
     "metadata": {},
     "output_type": "execute_result"
    },
    {
     "data": {
      "image/png": "[encoded data removed]",
      "text/plain": [
       "<Figure size 432x288 with 1 Axes>"
      ]
     },
     "metadata": {
      "needs_background": "light"
     },
     "output_type": "display_data"
    }
   ],
   "source": [
    "#Praktikum 1\n",
    "#Nama : Triska Paskah Uli Pangaribuan\n",
    "#NIM : 11S17011\n",
    "y_cos = np.cos(x)\n",
    "y_sin = np.sin(x)\n",
    "\n",
    "#Plot the points using matplotlib\n",
    "plt.plot(x, y_sin)\n",
    "plt.plot(x, y_cos)\n",
    "plt.xlabel('x axis label')\n",
    "plt.ylabel('y axis label')\n",
    "plt.title('Sine and Cosine')\n",
    "plt.legend(['Sine', 'Cosine'])\n",
    "    "
   ]
  },
  {
   "cell_type": "code",
   "execution_count": 96,
   "metadata": {},
   "outputs": [
    {
     "data": {
      "image/png": "[encoded data removed]",
      "text/plain": [
       "<Figure size 432x288 with 2 Axes>"
      ]
     },
     "metadata": {
      "needs_background": "light"
     },
     "output_type": "display_data"
    }
   ],
   "source": [
    "#Praktikum 1\n",
    "#Nama : Triska Paskah Uli Pangaribuan\n",
    "#NIM : 11S17011\n",
    "\n",
    "#Compute the x and y coordinates for points on sine and cosine curves\n",
    "x = np.arange(0, 3* np.pi, 0.1)\n",
    "y_sin = np.sin(x)\n",
    "y_cos = np.cos(x)\n",
    "\n",
    "#Set up a subplot grid that has height 2 and width 1,\n",
    "#and set the first such subplot as active.\n",
    "plt.subplot (2,1,1)\n",
    "\n",
    "#Make the first plot\n",
    "plt.plot(x, y_sin)\n",
    "plt.title('Sine')\n",
    "\n",
    "#Set the second subplot as active, and make the second plot.\n",
    "plt.subplot(2,1,2)\n",
    "plt.plot(x, y_cos)\n",
    "plt.title('Cosine')\n",
    "\n",
    "#Show the figure.\n",
    "plt.show()"
   ]
  },
  {
   "cell_type": "code",
   "execution_count": 97,
   "metadata": {},
   "outputs": [],
   "source": [
    "#Praktikum 1\n",
    "#Nama : Triska Paskah Uli Pangaribuan\n",
    "#NIM : 11S17011\n",
    "\n",
    "xlist = np.linspace(-3.0, 3.0, 3)\n",
    "ylist = np.linspace(-3.0, 3.0, 4)\n",
    "X,Y = np.meshgrid(xlist, ylist)\n",
    "Z = np.sqrt (X**2 + Y**2)"
   ]
  },
  {
   "cell_type": "code",
   "execution_count": 99,
   "metadata": {},
   "outputs": [
    {
     "data": {
      "image/png": "[encoded data removed]",
      "text/plain": [
       "<Figure size 432x288 with 1 Axes>"
      ]
     },
     "metadata": {
      "needs_background": "light"
     },
     "output_type": "display_data"
    }
   ],
   "source": [
    "#Praktikum 1\n",
    "#Nama : Triska Paskah Uli Pangaribuan\n",
    "#NIM : 11S17011\n",
    "\n",
    "plt.figure()\n",
    "cp = plt.contour(X, Y, Z)\n",
    "plt.clabel(cp, inline=True, fontsize=10)\n",
    "plt.title('Contour Plot')\n",
    "plt.xlabel('x (cm)')\n",
    "plt.ylabel('y (cm)')\n",
    "plt.show()"
   ]
  },
  {
   "cell_type": "code",
   "execution_count": 100,
   "metadata": {},
   "outputs": [
    {
     "data": {
      "image/png": "[encoded data removed]",
      "text/plain": [
       "<Figure size 432x288 with 1 Axes>"
      ]
     },
     "metadata": {
      "needs_background": "light"
     },
     "output_type": "display_data"
    }
   ],
   "source": [
    "#Praktikum 1\n",
    "#Nama : Triska Paskah Uli Pangaribuan\n",
    "#NIM : 11S17011\n",
    "\n",
    "y, x = np.ogrid[-1:2:100j, -1:1:100j]\n",
    "plt.contour(x.ravel(), y.ravel(), x**2 + (y-((x**2)**(1.0/3)))**2,[1],colors='red')\n",
    "plt.axis('equal')\n",
    "plt.show()"
   ]
  },
  {
   "cell_type": "code",
   "execution_count": 102,
   "metadata": {},
   "outputs": [
    {
     "data": {
      "image/png": "[encoded data removed]",
      "text/plain": [
       "<Figure size 432x288 with 1 Axes>"
      ]
     },
     "metadata": {
      "needs_background": "light"
     },
     "output_type": "display_data"
    }
   ],
   "source": [
    "#Praktikum 1\n",
    "#Nama : Triska Paskah Uli Pangaribuan\n",
    "#NIM : 11S17011\n",
    "\n",
    "from mpl_toolkits.mplot3d import Axes3D \n",
    "fig = plt.figure()\n",
    "ax = fig.add_subplot(111, projection='3d')\n",
    "\n",
    "#Make data \n",
    "u = np.linspace(0, 2 * np.pi, 100)\n",
    "v = np.linspace(0, np.pi, 100)\n",
    "x = 10 * np.outer(np.cos(u),np.sin(v))\n",
    "y = 10 * np.outer(np.sin(u), np.sin(v))\n",
    "z = 10 * np.outer(np.ones(np.size(u)), np.cos(v))\n",
    "\n",
    "#Plot the sirface\n",
    "# ax.plot_wireframe(x,y,z, color='b')\n",
    "ax.plot_surface(x, y, z, color='g')\n",
    "plt.show()"
   ]
  },
  {
   "cell_type": "code",
   "execution_count": null,
   "metadata": {},
   "outputs": [],
   "source": []
  }
 ],
 "metadata": {
  "kernelspec": {
   "display_name": "Python 3",
   "language": "python",
   "name": "python3"
  },
  "language_info": {
   "codemirror_mode": {
    "name": "ipython",
    "version": 3
   },
   "file_extension": ".py",
   "mimetype": "text/x-python",
   "name": "python",
   "nbconvert_exporter": "python",
   "pygments_lexer": "ipython3",
   "version": "3.7.3"
  }
 },
 "nbformat": 4,
 "nbformat_minor": 2
}
